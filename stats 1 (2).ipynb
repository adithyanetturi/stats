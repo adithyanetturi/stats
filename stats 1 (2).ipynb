{
 "cells": [
  {
   "cell_type": "markdown",
   "id": "a6f5130a",
   "metadata": {},
   "source": [
    "#### Q1. What are the three measures of central tendency?"
   ]
  },
  {
   "cell_type": "code",
   "execution_count": 11,
   "id": "70f7c764",
   "metadata": {},
   "outputs": [],
   "source": [
    "# 1. mean \n",
    "# 2. meadian \n",
    "# 3. mode"
   ]
  },
  {
   "cell_type": "markdown",
   "id": "f93c6f82",
   "metadata": {},
   "source": [
    "#### Q2. What is the difference between the mean, median, and mode? How are they used to measure the central tendency of a dataset?"
   ]
  },
  {
   "cell_type": "code",
   "execution_count": 12,
   "id": "59ede587",
   "metadata": {},
   "outputs": [],
   "source": [
    "# These measures of central tendency provide different perspectives on the central value of a dataset.\n",
    "# The mean considers all values, the median focuses on the middle value, and the mode identifies the most frequent value.\n",
    "# Depending on the nature of the data and the presence of outliers, one or a combination of \n",
    "# these measures can be used to understand the central tendency of a dataset."
   ]
  },
  {
   "cell_type": "markdown",
   "id": "52feada8",
   "metadata": {},
   "source": [
    "#### Q3. Measure the three measures of central tendency for the given height data:"
   ]
  },
  {
   "cell_type": "code",
   "execution_count": 16,
   "id": "c20bbe9f",
   "metadata": {},
   "outputs": [
    {
     "name": "stdout",
     "output_type": "stream",
     "text": [
      "mean: 177.01875\n",
      "median: 177.0\n",
      "mode is ModeResult(mode=array([177.]), count=array([3]))\n"
     ]
    }
   ],
   "source": [
    "l = [178,177,176,177,178.2,178,175,179,180,175,178.9,176.2,177,172.5,178,176.5]\n",
    "import numpy as np\n",
    "print(\"mean:\",np.mean(l))\n",
    "print(\"median:\",np.median(l))\n",
    "from scipy import stats as s\n",
    "print(\"mode is\",s.mode(l))"
   ]
  },
  {
   "cell_type": "markdown",
   "id": "dc63d4d0",
   "metadata": {},
   "source": [
    "#### Q4. Find the standard deviation for the given data:"
   ]
  },
  {
   "cell_type": "code",
   "execution_count": 17,
   "id": "5a259eaa",
   "metadata": {},
   "outputs": [
    {
     "data": {
      "text/plain": [
       "1.7885814036548633"
      ]
     },
     "execution_count": 17,
     "metadata": {},
     "output_type": "execute_result"
    }
   ],
   "source": [
    "np.std(l)"
   ]
  },
  {
   "cell_type": "markdown",
   "id": "80e2ba3d",
   "metadata": {},
   "source": [
    "#### Q5. How are measures of dispersion such as range, variance, and standard deviation used to describe the spread of a dataset? Provide an example."
   ]
  },
  {
   "cell_type": "code",
   "execution_count": 18,
   "id": "c5c5e557",
   "metadata": {},
   "outputs": [],
   "source": [
    "# Measures of dispersion, including range, variance, and standard deviation, are used to quantify the spread or variability within a dataset. Here's how they are used:\n",
    "\n",
    "# Range: The range is the simplest measure of dispersion, calculated as the difference between the maximum and minimum values in a dataset. It provides a quick assessment of the spread of the data by considering the full extent between the highest and lowest values. For example, if the range of test scores in a class is 50, it indicates a wider spread compared to a range of 10.\n",
    "\n",
    "# Variance: The variance is a more precise measure of dispersion, calculated by averaging the squared differences between each data point and the mean. It takes into account the deviation of each value from the mean and provides a measure of the average spread. For example, a large variance in income data indicates a greater variability in individual incomes within a population.\n",
    "\n",
    "# Standard Deviation: The standard deviation is the square root of the variance. It provides a more interpretable measure of dispersion in the same units as the original data. A higher standard deviation indicates a greater spread or variability of data points around the mean. For instance, a larger standard deviation in exam scores implies a wider range of performance among students.\n",
    "\n",
    "# Coefficient of Variation: The coefficient of variation is a relative measure of dispersion, calculated as the standard deviation divided by the mean and expressed as a percentage. It allows for the comparison of variability between datasets with different means. A higher coefficient of variation indicates greater relative variability. For example, comparing the coefficient of variation in rainfall between two regions helps understand which region experiences more relative variability in precipitation.\n",
    "\n",
    "# Interquartile Range (IQR): The IQR is a robust measure of dispersion that considers the spread of the middle 50% of the data. It is calculated as the difference between the upper quartile (75th percentile) and the lower quartile (25th percentile). The IQR is less sensitive to extreme values or outliers and provides insights into the central range of the dataset. For instance, a large IQR in housing prices indicates a wide variation in prices within the middle range of the market."
   ]
  },
  {
   "cell_type": "markdown",
   "id": "21477019",
   "metadata": {},
   "source": [
    "#### Q7. For the two given sets A = (2,3,4,5,6,7) & B = (0,2,6,8,10). Find:\n",
    "#### (i) A B (ii) A ⋃ B"
   ]
  },
  {
   "cell_type": "code",
   "execution_count": 23,
   "id": "fc66aead",
   "metadata": {},
   "outputs": [
    {
     "name": "stdout",
     "output_type": "stream",
     "text": [
      "{2, 6}\n",
      "{0, 2, 3, 4, 5, 6, 7, 8, 10}\n"
     ]
    }
   ],
   "source": [
    "#i)\n",
    "a = {2,3,4,5,6,7}\n",
    "b = {0,2,6,8,10}\n",
    "print(a&b)\n",
    "print(a|b)"
   ]
  },
  {
   "cell_type": "markdown",
   "id": "5b3635fb",
   "metadata": {},
   "source": [
    "#### Q8. What do you understand about skewness in data?"
   ]
  },
  {
   "cell_type": "code",
   "execution_count": 24,
   "id": "fa25004f",
   "metadata": {},
   "outputs": [],
   "source": [
    "# Skewness is a statistical measure that describes the asymmetry or lack of symmetry in the distri\n",
    "# bution of a dataset. I\n",
    "# helps to understand the shape and characteristics of the data distribution."
   ]
  },
  {
   "cell_type": "markdown",
   "id": "056c2d16",
   "metadata": {},
   "source": [
    "#### Q9. If a data is right skewed then what will be the position of median with respect to mean?"
   ]
  },
  {
   "cell_type": "code",
   "execution_count": 26,
   "id": "789fd71c",
   "metadata": {},
   "outputs": [],
   "source": [
    "# To summarize, in a right-skewed distribution, the median is generally lower than the mean \n",
    "# due to the influence of the tail of the distribution,which is skewed towards the right side."
   ]
  },
  {
   "cell_type": "markdown",
   "id": "08b79fcf",
   "metadata": {},
   "source": [
    "#### Q10. Explain the difference between covariance and correlation. How are these measures used instatistical analysis?"
   ]
  },
  {
   "cell_type": "code",
   "execution_count": 25,
   "id": "de125140",
   "metadata": {},
   "outputs": [],
   "source": [
    "# In summary, covariance measures the joint variability between variables,\n",
    "# while correlation measures the strength and direction of the linear relationship in a standardized\n",
    "# manner. Correlation provides a more reliable and interpretable measure, making it more commonly\n",
    "# used in statistical analysis."
   ]
  },
  {
   "cell_type": "markdown",
   "id": "aaf602c0",
   "metadata": {},
   "source": [
    "#### Q11. What is the formula for calculating the sample mean? Provide an example calculation for a dataset."
   ]
  },
  {
   "cell_type": "code",
   "execution_count": 27,
   "id": "e6eda916",
   "metadata": {},
   "outputs": [],
   "source": [
    "# The formula for calculating the sample mean is:\n",
    "\n",
    "# Sample Mean (x̄) = (Sum of all data points) / (Number of data points)\n",
    "\n",
    "# Here's an example calculation of the sample mean for a dataset:\n",
    "\n",
    "# Dataset: 8, 12, 6, 10, 14\n",
    "\n",
    "# Step 1: Add up all the data points: 8 + 12 + 6 + 10 + 14 = 50\n",
    "\n",
    "# Step 2: Count the number of data points: 5\n",
    "\n",
    "# Step 3: Apply the formula to calculate the sample mean:\n",
    "\n",
    "# Sample Mean (x̄) = 50 / 5 = 10\n",
    "\n",
    "# So, the sample mean for the given dataset is 10."
   ]
  },
  {
   "cell_type": "markdown",
   "id": "46e4940b",
   "metadata": {},
   "source": [
    "#### Q12. For a normal distribution data what is the relationship between its measure of central tendency?"
   ]
  },
  {
   "cell_type": "code",
   "execution_count": 28,
   "id": "ac228027",
   "metadata": {},
   "outputs": [],
   "source": [
    "# In a normal distribution, the measure of central tendency, which includes \n",
    "# the mean, median, and mode, are all equal and located at the center of the distribution. \n",
    "# This relationship holds true for a perfectly symmetric normal distribution."
   ]
  },
  {
   "cell_type": "markdown",
   "id": "086f5376",
   "metadata": {},
   "source": [
    "#### Q13. How is covariance different from correlation?"
   ]
  },
  {
   "cell_type": "code",
   "execution_count": 29,
   "id": "e245c171",
   "metadata": {},
   "outputs": [],
   "source": [
    "# In summary, covariance and correlation differ in their scale, interpretation, and range of values.\n",
    "# Covariance provides information about the direction and magnitude of the linear relationship, \n",
    "# while correlation offers a standardized measure that additionally quantifies the \n",
    "# strength and direction of the relationship. \n",
    "# Correlation is more commonly used due to its ease of interpretation and comparability \n",
    "# between different variable pairs."
   ]
  },
  {
   "cell_type": "markdown",
   "id": "07e2e1bf",
   "metadata": {},
   "source": [
    "#### Q14. How do outliers affect measures of central tendency and dispersion? Provide an example."
   ]
  },
  {
   "cell_type": "code",
   "execution_count": 30,
   "id": "1838dd2d",
   "metadata": {},
   "outputs": [],
   "source": [
    "# Example:\n",
    "# Consider a dataset of exam scores: 80, 85, 88, 90, 92, 95, 98, 100, 150. In this dataset,\n",
    "#     150 is an outlier that is significantly higher than the other values.\n",
    "# Let's see how it affects the measures\n",
    "# Mean: Including the outlier, the mean would be (80 + 85 + 88 + 90 + 92 + 95 + 98 + 100 + 150) / 9\n",
    "# = 104.78. Without the outlier, the mean would be (80 + 85 + 88 + 90 + 92 + 95 + 98 + 100) / 8 = 91.25.\n",
    "# The presence of the outlier substantially increases the mean.\n",
    "# Median: The median would be the same with or without the outlier since it is the middle value, \n",
    "#     unaffected by extreme values.\n",
    "# Range: With the outlier, the range is 150 - 80 = 70. Without the outlier, \n",
    "#     the range is 100 - 80 = 20. The outlier significantly increases the range.\n",
    "# Variance and Standard Deviation: The presence of the outlier would increase both the variance and \n",
    "#     standard deviation, as it introduces larger deviations from the mean.\n",
    "# In this example, the outlier influences the mean, range, variance, and standard deviation, \n",
    "# while the median remains unaffected. \n",
    "# It highlights the sensitivity of these measures to outliers and the importance of considering \n",
    "# their presence and impact in data analysis."
   ]
  },
  {
   "cell_type": "code",
   "execution_count": null,
   "id": "a08c64a6",
   "metadata": {},
   "outputs": [],
   "source": []
  }
 ],
 "metadata": {
  "kernelspec": {
   "display_name": "Python 3 (ipykernel)",
   "language": "python",
   "name": "python3"
  },
  "language_info": {
   "codemirror_mode": {
    "name": "ipython",
    "version": 3
   },
   "file_extension": ".py",
   "mimetype": "text/x-python",
   "name": "python",
   "nbconvert_exporter": "python",
   "pygments_lexer": "ipython3",
   "version": "3.9.12"
  }
 },
 "nbformat": 4,
 "nbformat_minor": 5
}
