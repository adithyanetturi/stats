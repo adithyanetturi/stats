{
 "cells": [
  {
   "cell_type": "markdown",
   "id": "c72de9d1",
   "metadata": {},
   "source": [
    "#### Q1. What is Statistics?"
   ]
  },
  {
   "cell_type": "code",
   "execution_count": 1,
   "id": "b7490cc9",
   "metadata": {},
   "outputs": [],
   "source": [
    "# --> is the science of collecting, organising and analyzing the data"
   ]
  },
  {
   "cell_type": "markdown",
   "id": "02f02e6a",
   "metadata": {},
   "source": [
    "#### Q2. Define the different types of statistics and give an example of when each type might be used."
   ]
  },
  {
   "cell_type": "code",
   "execution_count": 2,
   "id": "e0e2e648",
   "metadata": {},
   "outputs": [],
   "source": [
    "# 1. descriptive \n",
    "# 2. infrencial \n",
    "# eg for 1:\n",
    "#     the average data consumed by a person in a day\n",
    "# eg for 2:\n",
    "#     what percentage of average data consumed in city hyderabad "
   ]
  },
  {
   "cell_type": "markdown",
   "id": "7b372022",
   "metadata": {},
   "source": [
    "#### Q3. What are the different types of data and how do they differ from each other? Provide an example of each type of data."
   ]
  },
  {
   "cell_type": "code",
   "execution_count": 3,
   "id": "33a1d937",
   "metadata": {},
   "outputs": [],
   "source": [
    "# Numerical Data:\n",
    "#          consists of numbers and is further divided into two subcategories:\n",
    "#        a. Discrete Data:\n",
    "#            represents whole numbers or values that are counted. For example, the number of     students         in a class (5, 10, 15) or the number of cars in a parking lot (20, 30, 40).\n",
    "#        b. Continuous Data:\n",
    "#            represents measurements or values that can be any real number within a specific range. For  example, the height of individuals (1.70 meters, 1.75 meters) or the temperature of a room (23.5°C, 24.2°C).\n",
    "\n",
    "# Categorical Data:\n",
    "#     consists of distinct categories or labels and is divided into two subcategories:\n",
    "#         a. Nominal Data: represents categories with no inherent order or ranking. For example, the colors of cars (red, blue, green) or the types of animals (cat, dog, bird).\n",
    "#         b. Ordinal Data: represents categories with a specific order or ranking. For example, rating scales (poor, fair, good) or educational levels (elementary, high school, college)."
   ]
  },
  {
   "cell_type": "markdown",
   "id": "09fb812d",
   "metadata": {},
   "source": [
    "#### Q4. Categorise the following datasets with respect to quantitative and qualitative data types:\n",
    "#### (i) Grading in exam: A+, A, B+, B, C+, C, D, E\n",
    "#### (ii) Colour of mangoes: yellow, green, orange, red\n",
    "#### (iii) Height data of a class: [178.9, 179, 179.5, 176, 177.2, 178.3, 175.8,...]\n",
    "#### (iv) Number of mangoes exported by a farm: [500, 600, 478, 672, ...]"
   ]
  },
  {
   "cell_type": "code",
   "execution_count": 4,
   "id": "b6900b3a",
   "metadata": {},
   "outputs": [],
   "source": [
    "# i) qualitative -odinal \n",
    "# ii) qualitative-nominal\n",
    "# iii) quantitative - continues\n",
    "# iv) quantitative - discrete "
   ]
  },
  {
   "cell_type": "markdown",
   "id": "f57cf950",
   "metadata": {},
   "source": [
    "#### Q5. Explain the concept of levels of measurement and give an example of a variable for each level."
   ]
  },
  {
   "cell_type": "code",
   "execution_count": 5,
   "id": "83d0567a",
   "metadata": {},
   "outputs": [],
   "source": [
    "# Nominal Level: At the nominal level, variables are categorized into distinct groups or categories without any inherent order or numerical value. The only information conveyed is the group to which an observation belongs. Examples of nominal variables include:\n",
    "\n",
    "# Gender (male, female)\n",
    "# Ethnicity (Caucasian, African American, Asian, etc.)\n",
    "# Marital status (single, married, divorced)\n",
    "# Ordinal Level: At the ordinal level, variables have distinct categories with a specific order or ranking. However, the differences between categories may not be equal or meaningful. Examples of ordinal variables include:\n",
    "\n",
    "# Educational level (elementary, high school, college)\n",
    "# Likert scale ratings (strongly disagree, disagree, neutral, agree, strongly agree)\n",
    "# Survey response options (poor, fair, good, excellent)\n",
    "\n",
    "# Interval Level: At the interval level, variables have distinct categories, a specific order, and equal intervals between values. However, there is no absolute zero point. Examples of interval variables include:\n",
    "# Temperature in Celsius or Fahrenheit (0°C does not represent the absence of temperature)\n",
    "# Years (e.g., measuring time from the year 2000)\n",
    "\n",
    "# Ratio Level: At the ratio level, variables have distinct categories, a specific order, equal intervals between values, and an absolute zero point, which represents the absence of the variable. Ratio-level variables allow for meaningful ratios and calculations. Examples of ratio variables include:\n",
    "# Age (0 years represents the absence of age)\n",
    "# Height in centimeters or inches\n",
    "# Weight in kilograms or pounds"
   ]
  },
  {
   "cell_type": "markdown",
   "id": "02298b70",
   "metadata": {},
   "source": [
    "#### Q6. Why is it important to understand the level of measurement when analyzing data? Provide an example to illustrate your answer."
   ]
  },
  {
   "cell_type": "code",
   "execution_count": 6,
   "id": "c3ce1a50",
   "metadata": {},
   "outputs": [],
   "source": [
    "# It is important to note that variables can sometimes be treated as different levels of measurement based on the context in which they are used. For example, while age can be considered a ratio variable, it can also be treated as an interval variable when differences between ages are more relevant than ratios.\n",
    "\n",
    "# Understanding the level of measurement of a variable is crucial for selecting appropriate statistical analyses, determining appropriate summary statistics, and interpreting the results accurately."
   ]
  },
  {
   "cell_type": "markdown",
   "id": "3434ab9e",
   "metadata": {},
   "source": [
    "#### Q7. How nominal data type is different from ordinal data type."
   ]
  },
  {
   "cell_type": "code",
   "execution_count": 7,
   "id": "9378260c",
   "metadata": {},
   "outputs": [],
   "source": [
    "# The nominal data type and the ordinal data type are two distinct levels of measurement, each with its own characteristics. Here's how they differ:\n",
    "\n",
    "# Nominal Data Type:\n",
    "# Nominal data represents variables that are categorized into distinct groups or categories without any inherent order or numerical value. In nominal data, the categories are mutually exclusive, meaning each observation can only belong to one category. However, the specific order or ranking of the categories is not meaningful. Examples of nominal data include:\n",
    "\n",
    "# Gender (male, female)\n",
    "# Eye color (blue, brown, green)\n",
    "# Country of origin (USA, Canada, France)\n",
    "# Ordinal Data Type:\n",
    "# Ordinal data represents variables with distinct categories that have a specific order or ranking. In ordinal data, the categories are ordered, indicating the relative positioning of each category in relation to others. However, the differences between the categories may not be equal or meaningful. Examples of ordinal data include:\n",
    "\n",
    "# Educational attainment (elementary, high school, college)\n",
    "# Likert scale ratings (strongly disagree, disagree, neutral, agree, strongly agree)\n",
    "# Survey response options (poor, fair, good, excellent)"
   ]
  },
  {
   "cell_type": "markdown",
   "id": "fcda8d08",
   "metadata": {},
   "source": [
    "#### Q8. Which type of plot can be used to display data in terms of range?"
   ]
  },
  {
   "cell_type": "code",
   "execution_count": 8,
   "id": "5b11b372",
   "metadata": {},
   "outputs": [],
   "source": [
    "# A box plot provides a visual representation of the distribution of a dataset, including measures of central tendency and variability. It displays the minimum value, lower quartile (25th percentile), median (50th percentile), upper quartile (75th percentile), and maximum value."
   ]
  },
  {
   "cell_type": "markdown",
   "id": "d12463a4",
   "metadata": {},
   "source": [
    "#### Q9. Describe the difference between descriptive and inferential statistics. Give an example of each type of statistics and explain how they are used."
   ]
  },
  {
   "cell_type": "code",
   "execution_count": 9,
   "id": "56341dc6",
   "metadata": {},
   "outputs": [],
   "source": [
    "# descriptive statistics focuses on summarizing and describing data, providing a snapshot of the dataset, while inferential statistics involves making inferences and generalizations about a larger population based on sample data, utilizing probability theory and hypothesis testing."
   ]
  },
  {
   "cell_type": "markdown",
   "id": "d0e049d9",
   "metadata": {},
   "source": [
    "#### Q10. What are some common measures of central tendency and variability used in statistics? Explain how each measure can be used to describe a dataset."
   ]
  },
  {
   "cell_type": "code",
   "execution_count": 10,
   "id": "c5ce4721",
   "metadata": {},
   "outputs": [],
   "source": [
    "# n statistics, measures of central tendency and variability are used to describe the characteristics and distribution of a dataset. Here are some common measures in each category and their descriptions:\n",
    "\n",
    "# Measures of Central Tendency:\n",
    "\n",
    "# Mean: The mean is the average of all the values in a dataset. It is calculated by summing all the values and dividing the sum by the number of observations. The mean provides a measure of the typical or average value in the dataset. However, it is sensitive to extreme values and can be influenced by outliers.\n",
    "\n",
    "# Median: The median is the middle value in a dataset when the values are arranged in ascending or descending order. If the dataset has an odd number of observations, the median is the middle value. If the dataset has an even number of observations, the median is the average of the two middle values. The median is less affected by extreme values and provides a measure of the central tendency that is robust to outliers.\n",
    "\n",
    "# Mode: The mode is the most frequently occurring value in a dataset. It represents the value(s) that appear with the highest frequency. The mode is useful for categorical or discrete data and can be used to identify the most common category or value in a dataset.\n",
    "\n",
    "# Measures of Variability:\n",
    "\n",
    "# Range: The range is the difference between the maximum and minimum values in a dataset. It provides a simple measure of the spread of the data. However, it is sensitive to extreme values and can be influenced by outliers.\n",
    "\n",
    "# Variance: Variance measures the average squared deviation of each value from the mean. It quantifies the spread of the data points around the mean. A higher variance indicates greater variability in the dataset.\n",
    "\n",
    "# Standard Deviation: The standard deviation is the square root of the variance. It provides a measure of the average distance between each data point and the mean. A higher standard deviation indicates greater dispersion of data points around the mean.\n",
    "\n",
    "# Interquartile Range (IQR): The IQR is the range between the upper quartile (75th percentile) and the lower quartile (25th percentile) of a dataset. It represents the spread of the middle 50% of the data and is less affected by extreme values.\n",
    "\n"
   ]
  },
  {
   "cell_type": "code",
   "execution_count": null,
   "id": "9f75972d",
   "metadata": {},
   "outputs": [],
   "source": []
  }
 ],
 "metadata": {
  "kernelspec": {
   "display_name": "Python 3 (ipykernel)",
   "language": "python",
   "name": "python3"
  },
  "language_info": {
   "codemirror_mode": {
    "name": "ipython",
    "version": 3
   },
   "file_extension": ".py",
   "mimetype": "text/x-python",
   "name": "python",
   "nbconvert_exporter": "python",
   "pygments_lexer": "ipython3",
   "version": "3.9.12"
  }
 },
 "nbformat": 4,
 "nbformat_minor": 5
}
