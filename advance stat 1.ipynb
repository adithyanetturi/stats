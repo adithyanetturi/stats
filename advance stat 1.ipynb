{
 "cells": [
  {
   "cell_type": "markdown",
   "id": "787172b6",
   "metadata": {},
   "source": [
    "#### Q1. What is the Probability density function?"
   ]
  },
  {
   "cell_type": "code",
   "execution_count": 1,
   "id": "6828d575",
   "metadata": {},
   "outputs": [],
   "source": [
    "# n statistics and probability theory, the probability density function (PDF) \n",
    "# is a function that describes the likelihood of a continuous random variable taking on a \n",
    "# specific value or falling within a particular range of values. \n",
    "# The PDF is used to characterize the probability distribution of a continuous random variable."
   ]
  },
  {
   "cell_type": "markdown",
   "id": "434c5698",
   "metadata": {},
   "source": [
    "#### Q2. What are the types of Probability distribution?"
   ]
  },
  {
   "cell_type": "code",
   "execution_count": 2,
   "id": "1ee08fd7",
   "metadata": {},
   "outputs": [],
   "source": [
    "# Uniform Distribution\n",
    "# Normal Distribution (Gaussian Distribution)\n",
    "# Binomial Distribution\n",
    "# Poisson Distribution\n",
    "# Exponential Distribution\n",
    "# Gamma Distribution\n",
    "# Chi-Square Distribution\n",
    "# Beta Distribution\n",
    "# Weibull Distribution\n",
    "# Log-Normal Distribution"
   ]
  },
  {
   "cell_type": "markdown",
   "id": "f7e9c9c4",
   "metadata": {},
   "source": [
    "#### Q3. Write a Python function to calculate the probability density function of a normal distribution with given mean and standard deviation at a given point."
   ]
  },
  {
   "cell_type": "code",
   "execution_count": 3,
   "id": "43136dfd",
   "metadata": {},
   "outputs": [
    {
     "name": "stdout",
     "output_type": "stream",
     "text": [
      "The PDF at x = 1.5 is 0.12951759566589174\n"
     ]
    }
   ],
   "source": [
    "import math\n",
    "\n",
    "def normal_pdf(x, mean, std_dev):\n",
    "    coefficient = 1 / (std_dev * math.sqrt(2 * math.pi))\n",
    "    exponent = -((x - mean) ** 2) / (2 * (std_dev ** 2))\n",
    "    pdf = coefficient * math.exp(exponent)\n",
    "    return pdf\n",
    "mean = 0\n",
    "std_dev = 1\n",
    "x = 1.5\n",
    "pdf = normal_pdf(x, mean, std_dev)\n",
    "print(f\"The PDF at x = {x} is {pdf}\")\n"
   ]
  },
  {
   "cell_type": "markdown",
   "id": "5d6658a3",
   "metadata": {},
   "source": [
    "#### Q4. What are the properties of Binomial distribution? Give two examples of events where binomial distribution can be applied."
   ]
  },
  {
   "cell_type": "code",
   "execution_count": 4,
   "id": "bce174b4",
   "metadata": {},
   "outputs": [],
   "source": [
    "# The properties of the binomial distribution are as follows:\n",
    "\n",
    "# Fixed number of trials: The binomial distribution models a fixed number of independent trials, denoted as 'n'.\n",
    "\n",
    "# Two possible outcomes: Each trial in a binomial distribution has two possible outcomes, often referred to as success and failure.\n",
    "\n",
    "# Independent trials: The outcome of each trial is independent of the outcomes of the other trials.\n",
    "\n",
    "# Constant probability of success: The probability of success, denoted as 'p', remains constant for each trial.\n",
    "\n",
    "# Discrete distribution: The binomial distribution is a discrete probability distribution, meaning it describes the probabilities of obtaining specific discrete values.\n",
    "\n",
    "# Examples of events where the binomial distribution can be applied include:\n",
    "\n",
    "# Coin Flipping: When flipping a fair coin multiple times, we can model the number of heads obtained. Each flip has two possible outcomes (head or tail), and the probability of getting a head remains constant for each flip. The binomial distribution can be used to calculate the probability of obtaining a certain number of heads in a given number of flips.\n",
    "\n",
    "# Quality Control: In manufacturing or quality control processes, the binomial distribution can be used to model the number of defective items in a sample. Each item in the sample can be classified as either defective or non-defective, and the probability of a defective item remains constant. The binomial distribution can help determine the likelihood of a specific number of defective items in the sample.\n",
    "\n"
   ]
  },
  {
   "cell_type": "markdown",
   "id": "ac55ab61",
   "metadata": {},
   "source": [
    "#### Q5. Generate a random sample of size 1000 from a binomial distribution with probability of success 0.4 and plot a histogram of the results using matplotlib."
   ]
  },
  {
   "cell_type": "code",
   "execution_count": 5,
   "id": "1360330e",
   "metadata": {},
   "outputs": [
    {
     "data": {
      "image/png": "[encoded data removed]",
      "text/plain": [
       "<Figure size 432x288 with 1 Axes>"
      ]
     },
     "metadata": {
      "needs_background": "light"
     },
     "output_type": "display_data"
    }
   ],
   "source": [
    "import numpy as np\n",
    "import matplotlib.pyplot as plt\n",
    "\n",
    "# Set the parameters\n",
    "n = 1000  # Number of trials\n",
    "p = 0.4  # Probability of success\n",
    "\n",
    "# Generate the random sample\n",
    "sample = np.random.binomial(n, p, size=1000)\n",
    "\n",
    "# Plot the histogram\n",
    "plt.hist(sample, bins='auto', alpha=0.7, rwidth=0.85)\n",
    "plt.xlabel('Number of Successes')\n",
    "plt.ylabel('Frequency')\n",
    "plt.title('Binomial Distribution')\n",
    "plt.grid(True)\n",
    "plt.show()\n"
   ]
  },
  {
   "cell_type": "markdown",
   "id": "e15f0d8f",
   "metadata": {},
   "source": [
    "#### Q6. Write a Python function to calculate the cumulative distribution function of a Poisson distribution with given mean at a given point."
   ]
  },
  {
   "cell_type": "code",
   "execution_count": 6,
   "id": "8eae802f",
   "metadata": {},
   "outputs": [
    {
     "name": "stdout",
     "output_type": "stream",
     "text": [
      "The CDF at k = 5 is 0.9160820579686966\n"
     ]
    }
   ],
   "source": [
    "import math\n",
    "\n",
    "def poisson_cdf(k, mean):\n",
    "    cdf = 0\n",
    "    for i in range(k + 1):\n",
    "        cdf += (mean ** i) * math.exp(-mean) / math.factorial(i)\n",
    "    return cdf\n",
    "mean = 3\n",
    "k = 5\n",
    "cdf = poisson_cdf(k, mean)\n",
    "print(f\"The CDF at k = {k} is {cdf}\")\n"
   ]
  },
  {
   "cell_type": "markdown",
   "id": "fd32aaad",
   "metadata": {},
   "source": [
    "#### Q7. How Binomial distribution different from Poisson distribution?"
   ]
  },
  {
   "cell_type": "code",
   "execution_count": 7,
   "id": "52ba4dec",
   "metadata": {},
   "outputs": [],
   "source": [
    "# The choice between using a binomial or Poisson distribution depends on \n",
    "# the specific characteristics of the data or the problem at hand. \n",
    "# The binomial distribution is suitable when the number of trials is fixed and \n",
    "# the outcomes are binary, while the Poisson distribution is appropriate for modeling \n",
    "# the count of events occurring in a continuous or infinite space/time with a constant average rate."
   ]
  },
  {
   "cell_type": "markdown",
   "id": "5c0af346",
   "metadata": {},
   "source": [
    "#### Q8. Generate a random sample of size 1000 from a Poisson distribution with mean 5 and calculate the sample mean and variance."
   ]
  },
  {
   "cell_type": "code",
   "execution_count": 8,
   "id": "d2d3bad4",
   "metadata": {},
   "outputs": [
    {
     "name": "stdout",
     "output_type": "stream",
     "text": [
      "Sample Mean: 4.996\n",
      "Sample Variance: 4.819984000000001\n"
     ]
    }
   ],
   "source": [
    "import numpy as np\n",
    "\n",
    "# Set the parameters\n",
    "mean = 5\n",
    "sample_size = 1000\n",
    "\n",
    "# Generate the random sample\n",
    "sample = np.random.poisson(mean, size=sample_size)\n",
    "\n",
    "# Calculate the sample mean and variance\n",
    "sample_mean = np.mean(sample)\n",
    "sample_variance = np.var(sample)\n",
    "\n",
    "print(f\"Sample Mean: {sample_mean}\")\n",
    "print(f\"Sample Variance: {sample_variance}\")\n"
   ]
  },
  {
   "cell_type": "markdown",
   "id": "280ee089",
   "metadata": {},
   "source": [
    "#### Q9. How mean and variance are related in Binomial distribution and Poisson distribution?"
   ]
  },
  {
   "cell_type": "code",
   "execution_count": 9,
   "id": "70ba265a",
   "metadata": {},
   "outputs": [],
   "source": [
    "# The relationship between the mean and variance in a Binomial distribution is given by σ^2 = μ * q.\n",
    "# Since q = 1 - p, this can also be expressed as σ^2 = μ * (1 - p).\n",
    "# In the Poisson distribution, the mean and variance are equal: σ^2 = μ = λ."
   ]
  },
  {
   "cell_type": "markdown",
   "id": "dbcf7b5e",
   "metadata": {},
   "source": [
    "#### Q10. In normal distribution with respect to mean position, where does the least frequent data appear?"
   ]
  },
  {
   "cell_type": "code",
   "execution_count": 10,
   "id": "85f2eec9",
   "metadata": {},
   "outputs": [],
   "source": [
    "# In general, the probability density function of a normal distribution decreases as you move away\n",
    "# from the mean in either direction. \n",
    "# However, it's important to note that even though the data points in the tails are less frequent,\n",
    "# they still exist and contribute to the overall distribution."
   ]
  },
  {
   "cell_type": "code",
   "execution_count": null,
   "id": "3e79a3b1",
   "metadata": {},
   "outputs": [],
   "source": []
  }
 ],
 "metadata": {
  "kernelspec": {
   "display_name": "Python 3 (ipykernel)",
   "language": "python",
   "name": "python3"
  },
  "language_info": {
   "codemirror_mode": {
    "name": "ipython",
    "version": 3
   },
   "file_extension": ".py",
   "mimetype": "text/x-python",
   "name": "python",
   "nbconvert_exporter": "python",
   "pygments_lexer": "ipython3",
   "version": "3.9.12"
  }
 },
 "nbformat": 4,
 "nbformat_minor": 5
}
