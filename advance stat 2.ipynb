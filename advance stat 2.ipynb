{
 "cells": [
  {
   "cell_type": "markdown",
   "id": "d283fc5c",
   "metadata": {},
   "source": [
    "#### Q1: What are the Probability Mass Function (PMF) and Probability Density Function (PDF)? Explain with an example."
   ]
  },
  {
   "cell_type": "code",
   "execution_count": 1,
   "id": "2327a93c",
   "metadata": {},
   "outputs": [],
   "source": [
    "# Probability Mass Function (PMF):\n",
    "# The PMF is used for discrete random variables, which take on a countable set of distinct values. It gives the probability of each possible value that the random variable can take. The PMF is defined as:\n",
    "# PMF(x) = P(X = x)\n",
    "\n",
    "# where X is the random variable and x is a specific value that X can take.\n",
    "\n",
    "# For example, consider a fair six-sided die. The random variable X represents the outcome of rolling the die, and it can take on values from 1 to 6. The PMF of X would be:\n",
    "\n",
    "# PMF(1) = 1/6\n",
    "# PMF(2) = 1/6\n",
    "# PMF(3) = 1/6\n",
    "# PMF(4) = 1/6\n",
    "# PMF(5) = 1/6\n",
    "# PMF(6) = 1/6\n",
    "\n",
    "# Here, each value of X has an equal probability of 1/6.\n",
    "\n",
    "# Probability Density Function (PDF):\n",
    "# The PDF is used for continuous random variables, which can take on any value within a range or interval. Instead of giving the probability of individual values, the PDF gives the probability density at each point in the range of the random variable. The probability of an event occurring within a specific interval is given by integrating the PDF over that interval.\n",
    "# The PDF is denoted by f(x) and satisfies the following properties:\n",
    "\n",
    "# f(x) ≥ 0 for all x.\n",
    "# The total area under the PDF curve is equal to 1.\n",
    "# For example, consider a continuous random variable X representing the height of individuals in a population. The PDF of X might follow a normal distribution. The PDF would provide the probability density at each possible height value. However, to determine the probability of finding an individual with a height between a specific range, we would need to integrate the PDF over that range."
   ]
  },
  {
   "cell_type": "markdown",
   "id": "70ca5f6a",
   "metadata": {},
   "source": [
    "#### Q2: What is Cumulative Density Function (CDF)? Explain with an example. Why CDF is used?"
   ]
  },
  {
   "cell_type": "code",
   "execution_count": 2,
   "id": "2ffd013f",
   "metadata": {},
   "outputs": [],
   "source": [
    "# he Cumulative Density Function (CDF) is a mathematical function that describes the probability\n",
    "# that a random variable takes on a value less than or equal to a given value. \n",
    "# It provides the cumulative probability distribution of a random variable.\n",
    "# Example Let's consider a continuous random variable X that follows a standard normal distribution\n",
    "# with mean 0 and standard deviation 1. The CDF of this distribution, denoted as Φ(x), \n",
    "# gives the probability of X being less than or equal to a specific value x.\n",
    "\n",
    "# The CDF of a random variable X, denoted as F(x), is defined as:\n",
    "\n",
    "# F(x) = P(X ≤ x)"
   ]
  },
  {
   "cell_type": "markdown",
   "id": "e6051020",
   "metadata": {},
   "source": [
    "#### Q3: What are some examples of situations where the normal distribution might be used as a model? Explain how the parameters of the normal distribution relate to the shape of the distribution."
   ]
  },
  {
   "cell_type": "code",
   "execution_count": 3,
   "id": "58a5f27b",
   "metadata": {},
   "outputs": [],
   "source": [
    "# The normal distribution, also known as the Gaussian distribution or bell curve, is widely used as a model in various fields when certain assumptions are met. Here are some examples of situations where the normal distribution might be used as a model:\n",
    "\n",
    "# Natural Phenomena: Many natural phenomena tend to follow a normal distribution. For instance, the heights of individuals in a population, IQ scores, errors in measurements, and the distribution of weights of manufactured items can often be well approximated by a normal distribution.\n",
    "\n",
    "# Financial Markets: In finance, the normal distribution is often used to model stock returns and other financial variables. It assumes that the changes in prices or returns follow a normal distribution, which is a common assumption in many financial models.\n",
    "\n",
    "# Quality Control: In manufacturing processes, the normal distribution is used to model the variability of measurements or defects. It helps in setting quality control limits and determining the acceptability of products within specified tolerance levels.\n",
    "\n",
    "# Biometric Measurements: Various biometric measurements, such as blood pressure, cholesterol levels, and body temperature, are often assumed to follow a normal distribution. This assumption simplifies analysis and allows for the calculation of probabilities and confidence intervals.\n",
    "\n",
    "# Psychometric Testing: Many psychometric tests, such as intelligence tests or personality inventories, assume a normal distribution of scores. This assumption helps in interpreting individual scores and comparing them to a standardized population.\n",
    "\n",
    "# Now, let's discuss how the parameters of the normal distribution relate to the shape of the distribution. The normal distribution is characterized by two parameters: the mean (μ) and the standard deviation (σ).\n",
    "\n",
    "# Mean (μ): The mean represents the central location or average value of the distribution. It determines the location of the peak or the center of the bell-shaped curve. Shifting the mean to the left or right changes the location of the peak while maintaining the same shape and spread.\n",
    "\n",
    "# Standard Deviation (σ): The standard deviation measures the dispersion or spread of the distribution. It determines the width of the bell curve. A smaller standard deviation results in a narrower curve, indicating less variability around the mean. Conversely, a larger standard deviation leads to a wider curve, representing greater variability."
   ]
  },
  {
   "cell_type": "markdown",
   "id": "afd94dbe",
   "metadata": {},
   "source": [
    "#### Q4: Explain the importance of Normal Distribution. Give a few real-life examples of Normal Distribution."
   ]
  },
  {
   "cell_type": "code",
   "execution_count": 4,
   "id": "6881d3ad",
   "metadata": {},
   "outputs": [],
   "source": [
    "# Widely applicable in statistics and probability theory.\n",
    "# Central Limit Theorem.\n",
    "# Foundation for data analysis and inference.\n",
    "# Assumption for parameter estimation.\n",
    "# Basis for statistical modeling.\n",
    "# Commonly observed in real-life examples such as human height, exam scores, measurement errors, IQ scores, and stock returns.\n",
    "# REAL LIFE EXAMPLE ------\n",
    "# Human Height: The distribution of heights in a population tends to follow a roughly \n",
    "# normal distribution. The majority of individuals cluster around the mean height,\n",
    "# With fewer individuals at the extreme ends."
   ]
  },
  {
   "cell_type": "markdown",
   "id": "feacba4e",
   "metadata": {},
   "source": [
    "#### Q5: What is Bernaulli Distribution? Give an Example. What is the difference between Bernoulli Distribution and Binomial Distribution?"
   ]
  },
  {
   "cell_type": "code",
   "execution_count": 5,
   "id": "7fadb939",
   "metadata": {},
   "outputs": [],
   "source": [
    "# The Bernoulli distribution is a discrete probability distribution that models a random experiment with two possible outcomes: success (typically represented by 1) or failure (typically represented by 0). It is named after the Swiss mathematician Jacob Bernoulli.\n",
    "\n",
    "# The Bernoulli distribution is characterized by a single parameter, usually denoted as p, which represents the probability of success. The probability mass function (PMF) of the Bernoulli distribution is given by:\n",
    "\n",
    "# P(X = x) = p^x * (1 - p)^(1 - x)\n",
    "\n",
    "# where X is the random variable representing the outcome (0 or 1), and x can take the values 0 or 1.\n",
    "\n",
    "# An example of the Bernoulli distribution could be flipping a fair coin. Let's assume that \"success\" corresponds to getting heads, and \"failure\" corresponds to getting tails. The Bernoulli distribution can be used to model the probability of getting heads in a single coin flip, where p = 0.5.\n",
    "# DIFFRNECES --- \n",
    "# Bernoulli Distribution:\n",
    "# Describes a single trial or experiment with two possible outcomes (success or failure).\n",
    "# Has a single parameter, p, representing the probability of success.\n",
    "# The random variable follows a Bernoulli distribution can only take on two values (0 or 1).\n",
    "# Represents a special case of the Binomial distribution with a single trial (n = 1).\n",
    "# Binomial Distribution:\n",
    "# Describes the number of successes in a fixed number of independent Bernoulli trials.\n",
    "# Has two parameters: n (the number of trials) and p (the probability of success in each trial).\n",
    "# The random variable follows a Binomial distribution can take on values from 0 to n.\n",
    "# Represents the sum of n independent and identically distributed Bernoulli random variables."
   ]
  },
  {
   "cell_type": "markdown",
   "id": "01e42609",
   "metadata": {},
   "source": [
    "#### Q7: Explain uniform Distribution with an example."
   ]
  },
  {
   "cell_type": "code",
   "execution_count": 6,
   "id": "3c7662e4",
   "metadata": {},
   "outputs": [],
   "source": [
    "# The uniform distribution is a continuous probability distribution where all outcomes in a given range are equally likely.\n",
    "# Example: Rolling a fair six-sided die, where each face has an equal probability of 1/6.\n",
    "# The probability density function (PDF) of the uniform distribution is a constant within the range and zero outside the range.\n",
    "# The cumulative distribution function (CDF) is a straight line within the range, increasing linearly from 0 to 1.\n",
    "# The uniform distribution is often used to model situations where all outcomes are equally probable, such as random number generation or selecting a random item from a set."
   ]
  },
  {
   "cell_type": "markdown",
   "id": "5f78809b",
   "metadata": {},
   "source": [
    "#### Q8: What is the z score? State the importance of the z score."
   ]
  },
  {
   "cell_type": "code",
   "execution_count": 7,
   "id": "8d3bab44",
   "metadata": {},
   "outputs": [],
   "source": [
    "# The z-score, also known as the standard score, is a measure that quantifies \n",
    "# the relative position of a data point within a distribution. \n",
    "# It represents the number of standard deviations a data point is away from \n",
    "# the mean of the distribution. The z-score allows for standardized comparisons and analysis \n",
    "# across different distributions. It is important as it enables us to determine the probability \n",
    "# associated with a particular value, compare values from different distributions, identify outliers,\n",
    "# and perform hypothesis testing and confidence interval estimation."
   ]
  },
  {
   "cell_type": "markdown",
   "id": "c8608d9c",
   "metadata": {},
   "source": [
    "#### Q9: What is Central Limit Theorem? State the significance of the Central Limit Theorem."
   ]
  },
  {
   "cell_type": "code",
   "execution_count": 8,
   "id": "17689950",
   "metadata": {},
   "outputs": [],
   "source": [
    "# The Central Limit Theorem (CLT) states the following:\n",
    "\n",
    "# The CLT is a fundamental theorem in probability theory that states that the sum or average of a large number of independent and identically distributed random variables tends to follow a normal distribution, regardless of the underlying distribution of the variables.\n",
    "\n",
    "# It applies to both discrete and continuous random variables.\n",
    "\n",
    "# The CLT is significant because it allows us to make statistical inferences and draw conclusions about population parameters based on sample means or sums. It forms the basis for many statistical techniques and hypothesis tests.\n",
    "\n",
    "# It provides a justification for using the normal distribution as an approximation for the sampling distribution of sample means or sums, even if the population distribution is not normal.\n",
    "\n",
    "# The CLT has wide applications in various fields such as finance, quality control, social sciences, and engineering, where it helps in analyzing and interpreting data, estimating parameters, constructing confidence intervals, and performing hypothesis testing."
   ]
  },
  {
   "cell_type": "markdown",
   "id": "348d7908",
   "metadata": {},
   "source": [
    "#### Q10: State the assumptions of the Central Limit Theorem."
   ]
  },
  {
   "cell_type": "code",
   "execution_count": 9,
   "id": "e075a518",
   "metadata": {},
   "outputs": [],
   "source": [
    "# The random variables are independent.\n",
    "# The random variables are identically distributed.\n",
    "# The random variables have a finite mean.\n",
    "# The random variables have a finite variance."
   ]
  },
  {
   "cell_type": "code",
   "execution_count": null,
   "id": "d5134990",
   "metadata": {},
   "outputs": [],
   "source": []
  }
 ],
 "metadata": {
  "kernelspec": {
   "display_name": "Python 3 (ipykernel)",
   "language": "python",
   "name": "python3"
  },
  "language_info": {
   "codemirror_mode": {
    "name": "ipython",
    "version": 3
   },
   "file_extension": ".py",
   "mimetype": "text/x-python",
   "name": "python",
   "nbconvert_exporter": "python",
   "pygments_lexer": "ipython3",
   "version": "3.9.12"
  }
 },
 "nbformat": 4,
 "nbformat_minor": 5
}
