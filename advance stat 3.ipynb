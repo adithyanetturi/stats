{
 "cells": [
  {
   "cell_type": "markdown",
   "id": "d9006d62",
   "metadata": {},
   "source": [
    "#### Q1: What is Estimation Statistics? Explain point estimate and interval estimate."
   ]
  },
  {
   "cell_type": "code",
   "execution_count": 1,
   "id": "0836aef0",
   "metadata": {},
   "outputs": [],
   "source": [
    "#  Estimation statistics is a branch of statistics that focuses on estimating population parameters\n",
    "# based on sample data.\n",
    "#  Point estimate: It is a single value that is used to estimate an unknown population parameter, \n",
    "# such as the mean or proportion. It is obtained by calculating a statistic, like the sample mean \n",
    "# or sample proportion, from the available data.\n",
    "#   Interval estimate: It is a range of values within which the population parameter is likely\n",
    "# to fall. It provides more information about the uncertainty associated with the estimation. \n",
    "# The interval estimate is obtained by specifying a margin of error and constructing a confidence \n",
    "# interval around the point estimate."
   ]
  },
  {
   "cell_type": "markdown",
   "id": "07cac250",
   "metadata": {},
   "source": [
    "#### Q2. Write a Python function to estimate the population mean using a sample mean and standard deviation."
   ]
  },
  {
   "cell_type": "code",
   "execution_count": 2,
   "id": "859df5b1",
   "metadata": {},
   "outputs": [
    {
     "name": "stdout",
     "output_type": "stream",
     "text": [
      "Estimated population mean: 50.0\n",
      "Sample size: 100\n",
      "Sample standard deviation: 5.0\n",
      "95% Confidence Interval: (49.02, 50.98)\n"
     ]
    }
   ],
   "source": [
    "import math\n",
    "\n",
    "def estimate_population_mean(sample_mean, sample_std_dev, sample_size):\n",
    "    standard_error = sample_std_dev / math.sqrt(sample_size)\n",
    "    margin_of_error = 1.96 * standard_error  # Assuming a 95% confidence level (z-score of 1.96 for 95% confidence)\n",
    "    lower_bound = sample_mean - margin_of_error\n",
    "    upper_bound = sample_mean + margin_of_error\n",
    "    return (lower_bound, upper_bound)\n",
    "sample_mean = 50.0\n",
    "sample_std_dev = 5.0\n",
    "sample_size = 100\n",
    "\n",
    "result = estimate_population_mean(sample_mean, sample_std_dev, sample_size)\n",
    "\n",
    "print(\"Estimated population mean:\", sample_mean)\n",
    "print(\"Sample size:\", sample_size)\n",
    "print(\"Sample standard deviation:\", sample_std_dev)\n",
    "print(\"95% Confidence Interval:\", result)\n"
   ]
  },
  {
   "cell_type": "markdown",
   "id": "9b17cace",
   "metadata": {},
   "source": [
    "#### Q3: What is Hypothesis testing? Why is it used? State the importance of Hypothesis testing."
   ]
  },
  {
   "cell_type": "code",
   "execution_count": 3,
   "id": "29174935",
   "metadata": {},
   "outputs": [],
   "source": [
    "# Hypothesis testing is a statistical method used to make inferences about population parameters \n",
    "# based on sample data.\n",
    "# Hypothesis testing is used to evaluate claims, test research hypotheses, and make informed \n",
    "# decisions.\n",
    "# The importance of hypothesis testing lies in its ability to provide evidence and support \n",
    "# decision-making."
   ]
  },
  {
   "cell_type": "markdown",
   "id": "b90b7f3c",
   "metadata": {},
   "source": [
    "#### Q4. Create a hypothesis that states whether the average weight of male college students is greater than the average weight of female college students."
   ]
  },
  {
   "cell_type": "code",
   "execution_count": 4,
   "id": "5a2a2306",
   "metadata": {},
   "outputs": [],
   "source": [
    "# Null hypothesis (H₀): The average weight of male college students is equal to or less than\n",
    "# the average weight of female college students.\n",
    "# Alternative hypothesis (H₁): The average weight of male college students is greater than the \n",
    "# average weight of female college students."
   ]
  },
  {
   "cell_type": "markdown",
   "id": "36b60472",
   "metadata": {},
   "source": [
    "#### Q5. Write a Python script to conduct a hypothesis test on the difference between two population means, given a sample from each population."
   ]
  },
  {
   "cell_type": "code",
   "execution_count": 5,
   "id": "642865c4",
   "metadata": {},
   "outputs": [
    {
     "name": "stdout",
     "output_type": "stream",
     "text": [
      "Reject the null hypothesis.\n",
      "T-statistic: 5.741148344514842\n",
      "P-value: 0.00043337422830257117\n"
     ]
    }
   ],
   "source": [
    "import scipy.stats as stats\n",
    "\n",
    "def conduct_hypothesis_test(sample1, sample2, alpha):\n",
    "    # Perform independent two-sample t-test\n",
    "    t_stat, p_value = stats.ttest_ind(sample1, sample2)\n",
    "\n",
    "    # Compare p-value with significance level alpha\n",
    "    if p_value < alpha:\n",
    "        print(\"Reject the null hypothesis.\")\n",
    "    else:\n",
    "        print(\"Fail to reject the null hypothesis.\")\n",
    "\n",
    "    print(\"T-statistic:\", t_stat)\n",
    "    print(\"P-value:\", p_value)\n",
    "\n",
    "# Example usage:\n",
    "sample1 = [65, 68, 72, 71, 70]\n",
    "sample2 = [60, 63, 62, 59, 61]\n",
    "alpha = 0.05\n",
    "\n",
    "conduct_hypothesis_test(sample1, sample2, alpha)\n"
   ]
  },
  {
   "cell_type": "markdown",
   "id": "2da8291c",
   "metadata": {},
   "source": [
    "#### Q6: What is a null and alternative hypothesis? Give some examples."
   ]
  },
  {
   "cell_type": "code",
   "execution_count": 6,
   "id": "5393422b",
   "metadata": {},
   "outputs": [],
   "source": [
    "# In hypothesis testing, the null hypothesis (H₀) is a statement of no effect or no difference \n",
    "# between groups or variables being compared. \n",
    "# It assumes that any observed difference or effect is due to random chance or sampling variability.\n",
    "\n",
    "# On the other hand, the alternative hypothesis (H₁ or Ha) is a statement that contradicts or \n",
    "# opposes the null hypothesis. It represents the researcher's claim or the presence of a specific \n",
    "# effect, difference, or relationship in the population.\n",
    "\n",
    "# Here are some examples of null and alternative hypotheses:\n",
    "\n",
    "# Example for comparing means:\n",
    "\n",
    "# Null hypothesis (H₀): The average test scores of Group A and Group B are equal.\n",
    "# Alternative hypothesis (H₁): The average test score of Group A is significantly \n",
    "# different from Group B."
   ]
  },
  {
   "cell_type": "markdown",
   "id": "872aa998",
   "metadata": {},
   "source": [
    "#### Q7: Write down the steps involved in hypothesis testing."
   ]
  },
  {
   "cell_type": "code",
   "execution_count": 7,
   "id": "453043a6",
   "metadata": {},
   "outputs": [],
   "source": [
    "# Formulate the hypotheses.\n",
    "# Set the significance level (alpha).\n",
    "# Collect and analyze the data.\n",
    "# Determine the test statistic and the critical region.\n",
    "# Calculate the p-value.\n",
    "# Make a decision.\n",
    "# Draw conclusions."
   ]
  },
  {
   "cell_type": "markdown",
   "id": "523228ba",
   "metadata": {},
   "source": [
    "#### Q8. Define p-value and explain its significance in hypothesis testing."
   ]
  },
  {
   "cell_type": "code",
   "execution_count": 8,
   "id": "43382372",
   "metadata": {},
   "outputs": [],
   "source": [
    "# The p-value is a probability value that measures the strength of evidence against \n",
    "# the null hypothesis in hypothesis testing. It quantifies the likelihood of observing \n",
    "# the test statistic or a more extreme value if the null hypothesis is true.\n",
    "# The p-value helps make a decision about the null hypothesis. It provides \n",
    "# a measure of the strength of evidence against the null hypothesis. \n",
    "# A smaller p-value indicates stronger evidence against the null hypothesis."
   ]
  },
  {
   "cell_type": "markdown",
   "id": "f05414af",
   "metadata": {},
   "source": [
    "#### Q9. Generate a Student's t-distribution plot using Python's matplotlib library, with the degrees of freedom parameter set to 10."
   ]
  },
  {
   "cell_type": "code",
   "execution_count": 9,
   "id": "9cb7c3d4",
   "metadata": {},
   "outputs": [
    {
     "data": {
      "image/png": "[encoded data removed]",
      "text/plain": [
       "<Figure size 432x288 with 1 Axes>"
      ]
     },
     "metadata": {
      "needs_background": "light"
     },
     "output_type": "display_data"
    }
   ],
   "source": [
    "import numpy as np\n",
    "import matplotlib.pyplot as plt\n",
    "import scipy.stats as stats\n",
    "\n",
    "# Generate x values for the plot\n",
    "x = np.linspace(-4, 4, 500)\n",
    "\n",
    "# Calculate y values using the Student's t-distribution\n",
    "df = 10  # Degrees of freedom\n",
    "y = stats.t.pdf(x, df)\n",
    "\n",
    "# Plot the Student's t-distribution\n",
    "plt.plot(x, y, label=f\"t-distribution (df={df})\")\n",
    "plt.xlabel(\"x\")\n",
    "plt.ylabel(\"Probability Density\")\n",
    "plt.title(\"Student's t-distribution\")\n",
    "plt.legend()\n",
    "plt.show()"
   ]
  },
  {
   "cell_type": "markdown",
   "id": "fc150c50",
   "metadata": {},
   "source": [
    "#### Q10. Write a Python program to calculate the two-sample t-test for independent samples, given two random samples of equal size and a null hypothesis that the population means are equal."
   ]
  },
  {
   "cell_type": "code",
   "execution_count": 10,
   "id": "6f9fbedb",
   "metadata": {},
   "outputs": [
    {
     "name": "stdout",
     "output_type": "stream",
     "text": [
      "Two-sample t-test results:\n",
      "Sample 1: [5, 7, 9, 8, 6]\n",
      "Sample 2: [4, 6, 8, 7, 5]\n",
      "T-statistic: 1.0\n",
      "P-value: 0.34659350708733416\n"
     ]
    }
   ],
   "source": [
    "import scipy.stats as stats\n",
    "def two_sample_ttest(sample1, sample2):\n",
    "    t_stat, p_value = stats.ttest_ind(sample1, sample2)\n",
    "    return t_stat, p_value\n",
    "sample1 = [5, 7, 9, 8, 6]\n",
    "sample2 = [4, 6, 8, 7, 5]\n",
    "t_stat, p_value = two_sample_ttest(sample1, sample2)\n",
    "print(\"Two-sample t-test results:\")\n",
    "print(\"Sample 1:\", sample1)\n",
    "print(\"Sample 2:\", sample2)\n",
    "print(\"T-statistic:\", t_stat)\n",
    "print(\"P-value:\", p_value)"
   ]
  },
  {
   "cell_type": "markdown",
   "id": "436ba138",
   "metadata": {},
   "source": [
    "#### Q11: What is Student’s t distribution? When to use the t-Distribution."
   ]
  },
  {
   "cell_type": "code",
   "execution_count": 11,
   "id": "aa720f1c",
   "metadata": {},
   "outputs": [],
   "source": [
    "#Student's t-distribution, often referred to as the t-distribution, is a probability distribution\n",
    "#that arises in statistical inference.\n",
    "# The t-distribution is used when the sample size is small, and the population standard deviation \n",
    "# is unknown."
   ]
  },
  {
   "cell_type": "markdown",
   "id": "ad1a2d0c",
   "metadata": {},
   "source": [
    "#### Q12: What is t-statistic? State the formula for t-statistic."
   ]
  },
  {
   "cell_type": "code",
   "execution_count": 12,
   "id": "ed0f8ba6",
   "metadata": {},
   "outputs": [],
   "source": [
    "# The t-statistic is a measure used in hypothesis testing to assess the strength of evidence \n",
    "# against the null hypothesis.\n",
    "# t = (x̄ - μ₀) / (s / √n)"
   ]
  },
  {
   "cell_type": "markdown",
   "id": "d36e51b8",
   "metadata": {},
   "source": [
    "#### Q13. A coffee shop owner wants to estimate the average daily revenue for their shop. They take a random sample of 50 days and find the sample mean revenue to be $500 with a standard deviation of $50. Estimate the population mean revenue with a 95% confidence interval."
   ]
  },
  {
   "cell_type": "code",
   "execution_count": 13,
   "id": "4c31e868",
   "metadata": {},
   "outputs": [],
   "source": [
    "# To estimate the population mean revenue with a 95% confidence interval, we can use the sample mean revenue, the sample standard deviation, and the appropriate critical value from the t-distribution.\n",
    "# Given the information provided:\n",
    "# Sample mean revenue (x̄) = $500\n",
    "# Sample size (n) = 50\n",
    "# Sample standard deviation (s) = $50\n",
    "# Since the sample size is relatively large (n > 30), we can approximate the sampling distribution with a normal distribution. Thus, we'll use the critical value from the standard normal distribution corresponding to a 95% confidence level, which is approximately 1.96.\n",
    "# The formula to calculate the confidence interval is:\n",
    "# Confidence Interval = (x̄ - (critical value * (s / √n)), x̄ + (critical value * (s / √n)))\n",
    "# Substituting the values into the formula:\n",
    "# Confidence Interval = (500 - (1.96 * (50 / √50)), 500 + (1.96 * (50 / √50)))\n",
    "# Calculating the confidence interval:\n",
    "# Confidence Interval = (487.15, 512.85)\n",
    "# Therefore, the 95% confidence interval for the population mean revenue is approximately $487.15 to $512.85. We can be 95% confident that the true average daily revenue for the coffee shop falls within this range based on the given sample."
   ]
  },
  {
   "cell_type": "markdown",
   "id": "1dfa3548",
   "metadata": {},
   "source": [
    "#### Q14. A researcher hypothesizes that a new drug will decrease blood pressure by 10 mmHg. They conduct a clinical trial with 100 patients and find that the sample mean decrease in blood pressure is 8 mmHg with a standard deviation of 3 mmHg. Test the hypothesis with a significance level of 0.05."
   ]
  },
  {
   "cell_type": "code",
   "execution_count": 14,
   "id": "9cf81b95",
   "metadata": {},
   "outputs": [],
   "source": [
    "# # To test the hypothesis regarding the decrease in blood pressure, we will perform a one-sample t-test. The null hypothesis (H₀) is that the mean decrease in blood pressure is equal to 10 mmHg, while the alternative hypothesis (H₁) is that the mean decrease in blood pressure is less than 10 mmHg.\n",
    "# # Given the information provided:\n",
    "# # Sample size (n) = 100\n",
    "# # Sample mean decrease in blood pressure (x̄) = 8 mmHg\n",
    "# # Sample standard deviation (s) = 3 mmHg\n",
    "# # Hypothesized population mean decrease in blood pressure (μ₀) = 10 mmHg\n",
    "# # Significance level (alpha) = 0.05\n",
    "# # The formula to calculate the t-statistic is:\n",
    "# # t = (x̄ - μ₀) / (s / √n)\n",
    "# # Substituting the values into the formula:\n",
    "# # t = (8 - 10) / (3 / √100)\n",
    "# # t = -2 / (3 / 10)\n",
    "# # t = -2 * (10 / 3)\n",
    "# # t ≈ -6.67\n",
    "# # To test the hypothesis, we compare the calculated t-statistic with the critical value \n",
    "# from the t-distribution. Since the alternative hypothesis is that the mean decrease is less than \n",
    "# 10 mmHg, we will use a one-tailed test. With a significance level of 0.05 and 99 degrees of \n",
    "# freedom (n - 1), the critical value from the t-distribution is approximately -1.66.\n",
    "# # Since the calculated t-statistic (-6.67) is less than the critical value (-1.66), \n",
    "# we reject the null hypothesis. This means that there is sufficient evidence to support the \n",
    "# researcher's claim that the new drug decreases blood pressure by less than 10 mmHg.\n",
    "# # In conclusion, based on the given sample data and a significance level of 0.05, we reject \n",
    "# the null hypothesis and conclude that the new drug has a statistically significant effect on \n",
    "# reducing blood pressure, but the mean decrease is less than 10 mmHg."
   ]
  },
  {
   "cell_type": "markdown",
   "id": "969050d7",
   "metadata": {},
   "source": [
    "#### Q15. An electronics company produces a certain type of product with a mean weight of 5 pounds and a standard deviation of 0.5 pounds. A random sample of 25 products is taken, and the sample mean weight is found to be 4.8 pounds. Test the hypothesis that the true mean weight of the products is less than 5 pounds with a significance level of 0.01."
   ]
  },
  {
   "cell_type": "code",
   "execution_count": 15,
   "id": "1cb2f26b",
   "metadata": {},
   "outputs": [],
   "source": [
    "# In conclusion, based on the given sample data and a significance level of 0.01, we fail to reject\n",
    "# the null hypothesis and conclude that there is no significant evidence to suggest that the true\n",
    "# mean weight of the products is less than 5 pounds."
   ]
  },
  {
   "cell_type": "markdown",
   "id": "1aed4f82",
   "metadata": {},
   "source": [
    "#### Q16. Two groups of students are given different study materials to prepare for a test. The first group (n1 = 30) has a mean score of 80 with a standard deviation of 10, and the second group (n2 = 40) has a mean score of 75 with a standard deviation of 8. Test the hypothesis that the population means for the two groups are equal with a significance level of 0.01."
   ]
  },
  {
   "cell_type": "code",
   "execution_count": 16,
   "id": "25311193",
   "metadata": {},
   "outputs": [],
   "source": [
    "# In conclusion, based on the given sample data and a significance level of 0.01, \n",
    "# we fail to reject the null hypothesis and conclude that there is no significant evidence \n",
    "# to suggest that the population means for the two groups are different."
   ]
  },
  {
   "cell_type": "markdown",
   "id": "e0b8c396",
   "metadata": {},
   "source": [
    "#### Q17. A marketing company wants to estimate the average number of ads watched by viewers during a TV program. They take a random sample of 50 viewers and find that the sample mean is 4 with a standard deviation of 1.5. Estimate the population mean with a 99% confidence interval."
   ]
  },
  {
   "cell_type": "code",
   "execution_count": 17,
   "id": "68d78811",
   "metadata": {},
   "outputs": [],
   "source": [
    "# Therefore, the 99% confidence interval for the population mean number of ads watched \n",
    "# by viewers during a TV program is approximately 3.643 to 4.357. We can be 99% confident that \n",
    "# the true average number of ads watched falls within this range based on the given sample."
   ]
  },
  {
   "cell_type": "code",
   "execution_count": null,
   "id": "0540a0c1",
   "metadata": {},
   "outputs": [],
   "source": []
  }
 ],
 "metadata": {
  "kernelspec": {
   "display_name": "Python 3 (ipykernel)",
   "language": "python",
   "name": "python3"
  },
  "language_info": {
   "codemirror_mode": {
    "name": "ipython",
    "version": 3
   },
   "file_extension": ".py",
   "mimetype": "text/x-python",
   "name": "python",
   "nbconvert_exporter": "python",
   "pygments_lexer": "ipython3",
   "version": "3.9.12"
  }
 },
 "nbformat": 4,
 "nbformat_minor": 5
}
